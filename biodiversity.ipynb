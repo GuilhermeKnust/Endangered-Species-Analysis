{
 "cells": [
  {
   "cell_type": "markdown",
   "metadata": {},
   "source": [
    "# Project: Analyzing Endangered Species in National Parks 🏞️🦋\n",
    "\n",
    "## Introduction\n",
    "\n",
    "This project involves analyzing data from the National Parks Service to investigate endangered species in various parks. The goal is to uncover patterns and trends in the conservation statuses of these species, providing insights and recommendations for biodiversity conservation. We have two datasets to work with in this project: \"observations.csv\" and \"species_info.csv\".\n",
    "\n",
    "## Objectives\n",
    "\n",
    "1. **Data Cleaning and Preparation**:\n",
    "   - Handle missing values and ensure data consistency.\n",
    "   - Standardize common names and scientific names for accuracy.\n",
    "\n",
    "2. **Descriptive Analysis**:\n",
    "   - Summarize the data to understand the distribution of species across different categories.\n",
    "   - Highlight the proportion of species with various conservation statuses (e.g., Endangered, Threatened).\n",
    "\n",
    "3. **Pattern Detection**:\n",
    "   - Investigate if certain categories (e.g., Mammals, Birds) are more prone to endangerment.\n",
    "   - Identify any geographical patterns or park-specific trends.\n",
    "\n",
    "4. **Visualization**:\n",
    "   - Create clear and informative plots to illustrate key findings.\n",
    "   - Use bar charts, pie charts, and geographical maps to represent data visually.\n",
    "\n",
    "5. **Pose and Answer Questions**:\n",
    "   - What percentage of species in the dataset are classified as endangered?\n",
    "   - Are there specific parks with a higher concentration of endangered species?\n",
    "   - Do certain species categories show higher endangerment rates?\n",
    "\n",
    "6. **Interpretation and Reporting**:\n",
    "   - Summarize the insights gained from the analysis.\n",
    "   - Provide recommendations for conservation efforts based on the findings."
   ]
  },
  {
   "cell_type": "markdown",
   "metadata": {},
   "source": [
    "## Dataset Overview: observations.csv\n",
    "\n",
    "* **scientific_name:** The formal scientific name of the species observed, typically in Latin, following the binomial nomenclature system.\n",
    "* **park_name:** The name of the national park where the observation was made.\n",
    "* **observations:** The number of observations recorded for the species in the specified park."
   ]
  },
  {
   "cell_type": "code",
   "execution_count": 31,
   "metadata": {},
   "outputs": [
    {
     "data": {
      "text/html": [
       "<div>\n",
       "<style scoped>\n",
       "    .dataframe tbody tr th:only-of-type {\n",
       "        vertical-align: middle;\n",
       "    }\n",
       "\n",
       "    .dataframe tbody tr th {\n",
       "        vertical-align: top;\n",
       "    }\n",
       "\n",
       "    .dataframe thead th {\n",
       "        text-align: right;\n",
       "    }\n",
       "</style>\n",
       "<table border=\"1\" class=\"dataframe\">\n",
       "  <thead>\n",
       "    <tr style=\"text-align: right;\">\n",
       "      <th></th>\n",
       "      <th>scientific_name</th>\n",
       "      <th>park_name</th>\n",
       "      <th>observations</th>\n",
       "    </tr>\n",
       "  </thead>\n",
       "  <tbody>\n",
       "    <tr>\n",
       "      <th>0</th>\n",
       "      <td>Vicia benghalensis</td>\n",
       "      <td>Great Smoky Mountains National Park</td>\n",
       "      <td>68</td>\n",
       "    </tr>\n",
       "    <tr>\n",
       "      <th>1</th>\n",
       "      <td>Neovison vison</td>\n",
       "      <td>Great Smoky Mountains National Park</td>\n",
       "      <td>77</td>\n",
       "    </tr>\n",
       "    <tr>\n",
       "      <th>2</th>\n",
       "      <td>Prunus subcordata</td>\n",
       "      <td>Yosemite National Park</td>\n",
       "      <td>138</td>\n",
       "    </tr>\n",
       "    <tr>\n",
       "      <th>3</th>\n",
       "      <td>Abutilon theophrasti</td>\n",
       "      <td>Bryce National Park</td>\n",
       "      <td>84</td>\n",
       "    </tr>\n",
       "    <tr>\n",
       "      <th>4</th>\n",
       "      <td>Githopsis specularioides</td>\n",
       "      <td>Great Smoky Mountains National Park</td>\n",
       "      <td>85</td>\n",
       "    </tr>\n",
       "  </tbody>\n",
       "</table>\n",
       "</div>"
      ],
      "text/plain": [
       "            scientific_name                            park_name  observations\n",
       "0        Vicia benghalensis  Great Smoky Mountains National Park            68\n",
       "1            Neovison vison  Great Smoky Mountains National Park            77\n",
       "2         Prunus subcordata               Yosemite National Park           138\n",
       "3      Abutilon theophrasti                  Bryce National Park            84\n",
       "4  Githopsis specularioides  Great Smoky Mountains National Park            85"
      ]
     },
     "execution_count": 31,
     "metadata": {},
     "output_type": "execute_result"
    }
   ],
   "source": [
    "# Load the obervations.csv dataset\n",
    "observations_data = pd.read_csv('observations.csv')\n",
    "\n",
    "# Display the first few rows of the dataset\n",
    "observations_data.head()"
   ]
  },
  {
   "cell_type": "markdown",
   "metadata": {},
   "source": [
    "## Dataset Overview: species_info.csv\n",
    "\n",
    "* **category:** Indicates the biological classification of the species, such as Mammal, Bird, Reptile, etc.\n",
    "* **scientific_name:** The formal scientific name of the species, typically in Latin, following the binomial nomenclature system.\n",
    "* **common_names:** Lists the commonly used names for the species in everyday language. There can be multiple common names for a single species, separated by commas.\n",
    "* **conservation_status:** Indicates the level of threat faced by the species, such as Endangered, Threatened, etc. This column may contain missing values (NaN) for species without a defined status."
   ]
  },
  {
   "cell_type": "code",
   "execution_count": 32,
   "metadata": {},
   "outputs": [
    {
     "data": {
      "text/html": [
       "<div>\n",
       "<style scoped>\n",
       "    .dataframe tbody tr th:only-of-type {\n",
       "        vertical-align: middle;\n",
       "    }\n",
       "\n",
       "    .dataframe tbody tr th {\n",
       "        vertical-align: top;\n",
       "    }\n",
       "\n",
       "    .dataframe thead th {\n",
       "        text-align: right;\n",
       "    }\n",
       "</style>\n",
       "<table border=\"1\" class=\"dataframe\">\n",
       "  <thead>\n",
       "    <tr style=\"text-align: right;\">\n",
       "      <th></th>\n",
       "      <th>category</th>\n",
       "      <th>scientific_name</th>\n",
       "      <th>common_names</th>\n",
       "      <th>conservation_status</th>\n",
       "    </tr>\n",
       "  </thead>\n",
       "  <tbody>\n",
       "    <tr>\n",
       "      <th>0</th>\n",
       "      <td>Mammal</td>\n",
       "      <td>Clethrionomys gapperi gapperi</td>\n",
       "      <td>Gapper's Red-Backed Vole</td>\n",
       "      <td>NaN</td>\n",
       "    </tr>\n",
       "    <tr>\n",
       "      <th>1</th>\n",
       "      <td>Mammal</td>\n",
       "      <td>Bos bison</td>\n",
       "      <td>American Bison, Bison</td>\n",
       "      <td>NaN</td>\n",
       "    </tr>\n",
       "    <tr>\n",
       "      <th>2</th>\n",
       "      <td>Mammal</td>\n",
       "      <td>Bos taurus</td>\n",
       "      <td>Aurochs, Aurochs, Domestic Cattle (Feral), Dom...</td>\n",
       "      <td>NaN</td>\n",
       "    </tr>\n",
       "    <tr>\n",
       "      <th>3</th>\n",
       "      <td>Mammal</td>\n",
       "      <td>Ovis aries</td>\n",
       "      <td>Domestic Sheep, Mouflon, Red Sheep, Sheep (Feral)</td>\n",
       "      <td>NaN</td>\n",
       "    </tr>\n",
       "    <tr>\n",
       "      <th>4</th>\n",
       "      <td>Mammal</td>\n",
       "      <td>Cervus elaphus</td>\n",
       "      <td>Wapiti Or Elk</td>\n",
       "      <td>NaN</td>\n",
       "    </tr>\n",
       "  </tbody>\n",
       "</table>\n",
       "</div>"
      ],
      "text/plain": [
       "  category                scientific_name  \\\n",
       "0   Mammal  Clethrionomys gapperi gapperi   \n",
       "1   Mammal                      Bos bison   \n",
       "2   Mammal                     Bos taurus   \n",
       "3   Mammal                     Ovis aries   \n",
       "4   Mammal                 Cervus elaphus   \n",
       "\n",
       "                                        common_names conservation_status  \n",
       "0                           Gapper's Red-Backed Vole                 NaN  \n",
       "1                              American Bison, Bison                 NaN  \n",
       "2  Aurochs, Aurochs, Domestic Cattle (Feral), Dom...                 NaN  \n",
       "3  Domestic Sheep, Mouflon, Red Sheep, Sheep (Feral)                 NaN  \n",
       "4                                      Wapiti Or Elk                 NaN  "
      ]
     },
     "execution_count": 32,
     "metadata": {},
     "output_type": "execute_result"
    }
   ],
   "source": [
    "import pandas as pd\n",
    "\n",
    "# Load the species_info.csv dataset\n",
    "species_info = pd.read_csv('species_info.csv')\n",
    "\n",
    "# Display the first few rows of the dataset\n",
    "species_info.head()"
   ]
  },
  {
   "cell_type": "markdown",
   "metadata": {},
   "source": [
    "## Descrpitvive Statistics: observations"
   ]
  },
  {
   "cell_type": "code",
   "execution_count": 33,
   "metadata": {},
   "outputs": [
    {
     "name": "stdout",
     "output_type": "stream",
     "text": [
      "\n",
      "Descriptive Statistics for observations.csv\n",
      "                   count unique                                  top  freq  \\\n",
      "scientific_name    23296   5541                     Myotis lucifugus    12   \n",
      "park_name          23296      4  Great Smoky Mountains National Park  5824   \n",
      "observations     23296.0    NaN                                  NaN   NaN   \n",
      "\n",
      "                       mean        std  min   25%    50%    75%    max  \n",
      "scientific_name         NaN        NaN  NaN   NaN    NaN    NaN    NaN  \n",
      "park_name               NaN        NaN  NaN   NaN    NaN    NaN    NaN  \n",
      "observations     142.287904  69.890532  9.0  86.0  124.0  195.0  321.0  \n"
     ]
    }
   ],
   "source": [
    "# Perform descriptive statistics on species_info dataset\n",
    "species_info_stats = species_info.describe(include='all').transpose()\n",
    "\n",
    "# Perform descriptive statistics on observations_data dataset\n",
    "observations_data_stats = observations_data.describe(include='all').transpose()\n",
    "\n",
    "# Display the descriptive statistics\n",
    "print(\"\\nDescriptive Statistics for observations.csv\")\n",
    "print(observations_data_stats)"
   ]
  },
  {
   "cell_type": "markdown",
   "metadata": {},
   "source": [
    "## Descrpitvive Statistics: Species Info"
   ]
  },
  {
   "cell_type": "code",
   "execution_count": 34,
   "metadata": {},
   "outputs": [
    {
     "name": "stdout",
     "output_type": "stream",
     "text": [
      "Descriptive Statistics for species_info.csv\n",
      "                    count unique                 top  freq\n",
      "category             5824      7      Vascular Plant  4470\n",
      "scientific_name      5824   5541   Castor canadensis     3\n",
      "common_names         5824   5504  Brachythecium Moss     7\n",
      "conservation_status   191      4  Species of Concern   161\n"
     ]
    }
   ],
   "source": [
    "# Perform descriptive statistics on species_info dataset\n",
    "species_info_stats = species_info.describe(include='all').transpose()\n",
    "\n",
    "# Display the descriptive statistics\n",
    "print(\"Descriptive Statistics for species_info.csv\")\n",
    "print(species_info_stats)"
   ]
  }
 ],
 "metadata": {
  "kernelspec": {
   "display_name": "Python 3",
   "language": "python",
   "name": "python3"
  },
  "language_info": {
   "codemirror_mode": {
    "name": "ipython",
    "version": 3
   },
   "file_extension": ".py",
   "mimetype": "text/x-python",
   "name": "python",
   "nbconvert_exporter": "python",
   "pygments_lexer": "ipython3",
   "version": "3.12.1"
  }
 },
 "nbformat": 4,
 "nbformat_minor": 4
}
